{
    "nbformat_minor": 1, 
    "cells": [
        {
            "execution_count": 2, 
            "cell_type": "code", 
            "metadata": {}, 
            "outputs": [], 
            "source": "import pandas as pd"
        }, 
        {
            "source": "<font size=\"5\">*Scroll Down please*</font>", 
            "cell_type": "markdown", 
            "metadata": {}
        }, 
        {
            "source": "<font size=\"5\">**</font>", 
            "cell_type": "markdown", 
            "metadata": {}
        }, 
        {
            "execution_count": null, 
            "cell_type": "code", 
            "metadata": {}, 
            "outputs": [], 
            "source": "\n"
        }, 
        {
            "execution_count": null, 
            "cell_type": "code", 
            "metadata": {}, 
            "outputs": [], 
            "source": ""
        }, 
        {
            "execution_count": null, 
            "cell_type": "code", 
            "metadata": {}, 
            "outputs": [], 
            "source": ""
        }, 
        {
            "execution_count": null, 
            "cell_type": "code", 
            "metadata": {}, 
            "outputs": [], 
            "source": ""
        }, 
        {
            "execution_count": 19, 
            "cell_type": "code", 
            "metadata": {}, 
            "outputs": [], 
            "source": "from bs4 import BeautifulSoup\n\n\n\nsoup = BeautifulSoup(\"<html>https://en.wikipedia.org/wiki/List_of_postal_codes_of_Canada:_M</html>\",\"lxml\")"
        }, 
        {
            "execution_count": 23, 
            "cell_type": "code", 
            "metadata": {}, 
            "outputs": [
                {
                    "execution_count": 23, 
                    "metadata": {}, 
                    "data": {
                        "text/plain": "<html><body><p>Sacr\u00e9 bleu!</p></body></html>"
                    }, 
                    "output_type": "execute_result"
                }
            ], 
            "source": "BeautifulSoup(\"Sacr&eacute; bleu!\",'lxml')\n"
        }, 
        {
            "execution_count": null, 
            "cell_type": "code", 
            "metadata": {}, 
            "outputs": [], 
            "source": ""
        }, 
        {
            "execution_count": null, 
            "cell_type": "code", 
            "metadata": {}, 
            "outputs": [], 
            "source": "\n"
        }, 
        {
            "execution_count": 46, 
            "cell_type": "code", 
            "metadata": {}, 
            "outputs": [
                {
                    "execution_count": 46, 
                    "metadata": {}, 
                    "data": {
                        "text/html": "<div>\n<style scoped>\n    .dataframe tbody tr th:only-of-type {\n        vertical-align: middle;\n    }\n\n    .dataframe tbody tr th {\n        vertical-align: top;\n    }\n\n    .dataframe thead th {\n        text-align: right;\n    }\n</style>\n<table border=\"1\" class=\"dataframe\">\n  <thead>\n    <tr style=\"text-align: right;\">\n      <th></th>\n      <th>Postcode</th>\n      <th>Borough</th>\n      <th>Neighborhood</th>\n    </tr>\n  </thead>\n  <tbody>\n    <tr>\n      <th>0</th>\n      <td>None</td>\n      <td>None</td>\n      <td>None</td>\n    </tr>\n    <tr>\n      <th>1</th>\n      <td>M1A</td>\n      <td>Not assigned</td>\n      <td>Not assigned\\n</td>\n    </tr>\n    <tr>\n      <th>2</th>\n      <td>M2A</td>\n      <td>Not assigned</td>\n      <td>Not assigned\\n</td>\n    </tr>\n    <tr>\n      <th>3</th>\n      <td>M3A</td>\n      <td>North York</td>\n      <td>Parkwoods\\n</td>\n    </tr>\n    <tr>\n      <th>4</th>\n      <td>M4A</td>\n      <td>North York</td>\n      <td>Victoria Village\\n</td>\n    </tr>\n    <tr>\n      <th>5</th>\n      <td>M5A</td>\n      <td>Downtown Toronto</td>\n      <td>Harbourfront\\n</td>\n    </tr>\n    <tr>\n      <th>6</th>\n      <td>M5A</td>\n      <td>Downtown Toronto</td>\n      <td>Regent Park\\n</td>\n    </tr>\n    <tr>\n      <th>7</th>\n      <td>M6A</td>\n      <td>North York</td>\n      <td>Lawrence Heights\\n</td>\n    </tr>\n    <tr>\n      <th>8</th>\n      <td>M6A</td>\n      <td>North York</td>\n      <td>Lawrence Manor\\n</td>\n    </tr>\n    <tr>\n      <th>9</th>\n      <td>M7A</td>\n      <td>Queen's Park</td>\n      <td>Not assigned\\n</td>\n    </tr>\n    <tr>\n      <th>10</th>\n      <td>M8A</td>\n      <td>Not assigned</td>\n      <td>Not assigned\\n</td>\n    </tr>\n    <tr>\n      <th>11</th>\n      <td>M9A</td>\n      <td>Etobicoke</td>\n      <td>Islington Avenue\\n</td>\n    </tr>\n    <tr>\n      <th>12</th>\n      <td>M1B</td>\n      <td>Scarborough</td>\n      <td>Rouge\\n</td>\n    </tr>\n    <tr>\n      <th>13</th>\n      <td>M1B</td>\n      <td>Scarborough</td>\n      <td>Malvern\\n</td>\n    </tr>\n    <tr>\n      <th>14</th>\n      <td>M2B</td>\n      <td>Not assigned</td>\n      <td>Not assigned\\n</td>\n    </tr>\n    <tr>\n      <th>15</th>\n      <td>M3B</td>\n      <td>North York</td>\n      <td>Don Mills North\\n</td>\n    </tr>\n    <tr>\n      <th>16</th>\n      <td>M4B</td>\n      <td>East York</td>\n      <td>Woodbine Gardens\\n</td>\n    </tr>\n    <tr>\n      <th>17</th>\n      <td>M4B</td>\n      <td>East York</td>\n      <td>Parkview Hill\\n</td>\n    </tr>\n    <tr>\n      <th>18</th>\n      <td>M5B</td>\n      <td>Downtown Toronto</td>\n      <td>Ryerson\\n</td>\n    </tr>\n    <tr>\n      <th>19</th>\n      <td>M5B</td>\n      <td>Downtown Toronto</td>\n      <td>Garden District\\n</td>\n    </tr>\n    <tr>\n      <th>20</th>\n      <td>M6B</td>\n      <td>North York</td>\n      <td>Glencairn\\n</td>\n    </tr>\n    <tr>\n      <th>21</th>\n      <td>M7B</td>\n      <td>Not assigned</td>\n      <td>Not assigned\\n</td>\n    </tr>\n    <tr>\n      <th>22</th>\n      <td>M8B</td>\n      <td>Not assigned</td>\n      <td>Not assigned\\n</td>\n    </tr>\n    <tr>\n      <th>23</th>\n      <td>M9B</td>\n      <td>Etobicoke</td>\n      <td>Cloverdale\\n</td>\n    </tr>\n    <tr>\n      <th>24</th>\n      <td>M9B</td>\n      <td>Etobicoke</td>\n      <td>Islington\\n</td>\n    </tr>\n    <tr>\n      <th>25</th>\n      <td>M9B</td>\n      <td>Etobicoke</td>\n      <td>Martin Grove\\n</td>\n    </tr>\n    <tr>\n      <th>26</th>\n      <td>M9B</td>\n      <td>Etobicoke</td>\n      <td>Princess Gardens\\n</td>\n    </tr>\n    <tr>\n      <th>27</th>\n      <td>M9B</td>\n      <td>Etobicoke</td>\n      <td>West Deane Park\\n</td>\n    </tr>\n    <tr>\n      <th>28</th>\n      <td>M1C</td>\n      <td>Scarborough</td>\n      <td>Highland Creek\\n</td>\n    </tr>\n    <tr>\n      <th>29</th>\n      <td>M1C</td>\n      <td>Scarborough</td>\n      <td>Rouge Hill\\n</td>\n    </tr>\n    <tr>\n      <th>...</th>\n      <td>...</td>\n      <td>...</td>\n      <td>...</td>\n    </tr>\n    <tr>\n      <th>260</th>\n      <td>M9X</td>\n      <td>Not assigned</td>\n      <td>Not assigned\\n</td>\n    </tr>\n    <tr>\n      <th>261</th>\n      <td>M1Y</td>\n      <td>Not assigned</td>\n      <td>Not assigned\\n</td>\n    </tr>\n    <tr>\n      <th>262</th>\n      <td>M2Y</td>\n      <td>Not assigned</td>\n      <td>Not assigned\\n</td>\n    </tr>\n    <tr>\n      <th>263</th>\n      <td>M3Y</td>\n      <td>Not assigned</td>\n      <td>Not assigned\\n</td>\n    </tr>\n    <tr>\n      <th>264</th>\n      <td>M4Y</td>\n      <td>Downtown Toronto</td>\n      <td>Church and Wellesley\\n</td>\n    </tr>\n    <tr>\n      <th>265</th>\n      <td>M5Y</td>\n      <td>Not assigned</td>\n      <td>Not assigned\\n</td>\n    </tr>\n    <tr>\n      <th>266</th>\n      <td>M6Y</td>\n      <td>Not assigned</td>\n      <td>Not assigned\\n</td>\n    </tr>\n    <tr>\n      <th>267</th>\n      <td>M7Y</td>\n      <td>East Toronto</td>\n      <td>Business Reply Mail Processing Centre 969 East...</td>\n    </tr>\n    <tr>\n      <th>268</th>\n      <td>M8Y</td>\n      <td>Etobicoke</td>\n      <td>Humber Bay\\n</td>\n    </tr>\n    <tr>\n      <th>269</th>\n      <td>M8Y</td>\n      <td>Etobicoke</td>\n      <td>King's Mill Park\\n</td>\n    </tr>\n    <tr>\n      <th>270</th>\n      <td>M8Y</td>\n      <td>Etobicoke</td>\n      <td>Kingsway Park South East\\n</td>\n    </tr>\n    <tr>\n      <th>271</th>\n      <td>M8Y</td>\n      <td>Etobicoke</td>\n      <td>Mimico NE\\n</td>\n    </tr>\n    <tr>\n      <th>272</th>\n      <td>M8Y</td>\n      <td>Etobicoke</td>\n      <td>Old Mill South\\n</td>\n    </tr>\n    <tr>\n      <th>273</th>\n      <td>M8Y</td>\n      <td>Etobicoke</td>\n      <td>The Queensway East\\n</td>\n    </tr>\n    <tr>\n      <th>274</th>\n      <td>M8Y</td>\n      <td>Etobicoke</td>\n      <td>Royal York South East\\n</td>\n    </tr>\n    <tr>\n      <th>275</th>\n      <td>M8Y</td>\n      <td>Etobicoke</td>\n      <td>Sunnylea\\n</td>\n    </tr>\n    <tr>\n      <th>276</th>\n      <td>M9Y</td>\n      <td>Not assigned</td>\n      <td>Not assigned\\n</td>\n    </tr>\n    <tr>\n      <th>277</th>\n      <td>M1Z</td>\n      <td>Not assigned</td>\n      <td>Not assigned\\n</td>\n    </tr>\n    <tr>\n      <th>278</th>\n      <td>M2Z</td>\n      <td>Not assigned</td>\n      <td>Not assigned\\n</td>\n    </tr>\n    <tr>\n      <th>279</th>\n      <td>M3Z</td>\n      <td>Not assigned</td>\n      <td>Not assigned\\n</td>\n    </tr>\n    <tr>\n      <th>280</th>\n      <td>M4Z</td>\n      <td>Not assigned</td>\n      <td>Not assigned\\n</td>\n    </tr>\n    <tr>\n      <th>281</th>\n      <td>M5Z</td>\n      <td>Not assigned</td>\n      <td>Not assigned\\n</td>\n    </tr>\n    <tr>\n      <th>282</th>\n      <td>M6Z</td>\n      <td>Not assigned</td>\n      <td>Not assigned\\n</td>\n    </tr>\n    <tr>\n      <th>283</th>\n      <td>M7Z</td>\n      <td>Not assigned</td>\n      <td>Not assigned\\n</td>\n    </tr>\n    <tr>\n      <th>284</th>\n      <td>M8Z</td>\n      <td>Etobicoke</td>\n      <td>Kingsway Park South West\\n</td>\n    </tr>\n    <tr>\n      <th>285</th>\n      <td>M8Z</td>\n      <td>Etobicoke</td>\n      <td>Mimico NW\\n</td>\n    </tr>\n    <tr>\n      <th>286</th>\n      <td>M8Z</td>\n      <td>Etobicoke</td>\n      <td>The Queensway West\\n</td>\n    </tr>\n    <tr>\n      <th>287</th>\n      <td>M8Z</td>\n      <td>Etobicoke</td>\n      <td>Royal York South West\\n</td>\n    </tr>\n    <tr>\n      <th>288</th>\n      <td>M8Z</td>\n      <td>Etobicoke</td>\n      <td>South of Bloor\\n</td>\n    </tr>\n    <tr>\n      <th>289</th>\n      <td>M9Z</td>\n      <td>Not assigned</td>\n      <td>Not assigned\\n</td>\n    </tr>\n  </tbody>\n</table>\n<p>290 rows \u00d7 3 columns</p>\n</div>", 
                        "text/plain": "    Postcode           Borough  \\\n0       None              None   \n1        M1A      Not assigned   \n2        M2A      Not assigned   \n3        M3A        North York   \n4        M4A        North York   \n5        M5A  Downtown Toronto   \n6        M5A  Downtown Toronto   \n7        M6A        North York   \n8        M6A        North York   \n9        M7A      Queen's Park   \n10       M8A      Not assigned   \n11       M9A         Etobicoke   \n12       M1B       Scarborough   \n13       M1B       Scarborough   \n14       M2B      Not assigned   \n15       M3B        North York   \n16       M4B         East York   \n17       M4B         East York   \n18       M5B  Downtown Toronto   \n19       M5B  Downtown Toronto   \n20       M6B        North York   \n21       M7B      Not assigned   \n22       M8B      Not assigned   \n23       M9B         Etobicoke   \n24       M9B         Etobicoke   \n25       M9B         Etobicoke   \n26       M9B         Etobicoke   \n27       M9B         Etobicoke   \n28       M1C       Scarborough   \n29       M1C       Scarborough   \n..       ...               ...   \n260      M9X      Not assigned   \n261      M1Y      Not assigned   \n262      M2Y      Not assigned   \n263      M3Y      Not assigned   \n264      M4Y  Downtown Toronto   \n265      M5Y      Not assigned   \n266      M6Y      Not assigned   \n267      M7Y      East Toronto   \n268      M8Y         Etobicoke   \n269      M8Y         Etobicoke   \n270      M8Y         Etobicoke   \n271      M8Y         Etobicoke   \n272      M8Y         Etobicoke   \n273      M8Y         Etobicoke   \n274      M8Y         Etobicoke   \n275      M8Y         Etobicoke   \n276      M9Y      Not assigned   \n277      M1Z      Not assigned   \n278      M2Z      Not assigned   \n279      M3Z      Not assigned   \n280      M4Z      Not assigned   \n281      M5Z      Not assigned   \n282      M6Z      Not assigned   \n283      M7Z      Not assigned   \n284      M8Z         Etobicoke   \n285      M8Z         Etobicoke   \n286      M8Z         Etobicoke   \n287      M8Z         Etobicoke   \n288      M8Z         Etobicoke   \n289      M9Z      Not assigned   \n\n                                          Neighborhood  \n0                                                 None  \n1                                       Not assigned\\n  \n2                                       Not assigned\\n  \n3                                          Parkwoods\\n  \n4                                   Victoria Village\\n  \n5                                       Harbourfront\\n  \n6                                        Regent Park\\n  \n7                                   Lawrence Heights\\n  \n8                                     Lawrence Manor\\n  \n9                                       Not assigned\\n  \n10                                      Not assigned\\n  \n11                                  Islington Avenue\\n  \n12                                             Rouge\\n  \n13                                           Malvern\\n  \n14                                      Not assigned\\n  \n15                                   Don Mills North\\n  \n16                                  Woodbine Gardens\\n  \n17                                     Parkview Hill\\n  \n18                                           Ryerson\\n  \n19                                   Garden District\\n  \n20                                         Glencairn\\n  \n21                                      Not assigned\\n  \n22                                      Not assigned\\n  \n23                                        Cloverdale\\n  \n24                                         Islington\\n  \n25                                      Martin Grove\\n  \n26                                  Princess Gardens\\n  \n27                                   West Deane Park\\n  \n28                                    Highland Creek\\n  \n29                                        Rouge Hill\\n  \n..                                                 ...  \n260                                     Not assigned\\n  \n261                                     Not assigned\\n  \n262                                     Not assigned\\n  \n263                                     Not assigned\\n  \n264                             Church and Wellesley\\n  \n265                                     Not assigned\\n  \n266                                     Not assigned\\n  \n267  Business Reply Mail Processing Centre 969 East...  \n268                                       Humber Bay\\n  \n269                                 King's Mill Park\\n  \n270                         Kingsway Park South East\\n  \n271                                        Mimico NE\\n  \n272                                   Old Mill South\\n  \n273                               The Queensway East\\n  \n274                            Royal York South East\\n  \n275                                         Sunnylea\\n  \n276                                     Not assigned\\n  \n277                                     Not assigned\\n  \n278                                     Not assigned\\n  \n279                                     Not assigned\\n  \n280                                     Not assigned\\n  \n281                                     Not assigned\\n  \n282                                     Not assigned\\n  \n283                                     Not assigned\\n  \n284                         Kingsway Park South West\\n  \n285                                        Mimico NW\\n  \n286                               The Queensway West\\n  \n287                            Royal York South West\\n  \n288                                   South of Bloor\\n  \n289                                     Not assigned\\n  \n\n[290 rows x 3 columns]"
                    }, 
                    "output_type": "execute_result"
                }
            ], 
            "source": "import bs4 as bs\nimport urllib.request\nimport pandas as pd\n\nsource = urllib.request.urlopen('https://en.wikipedia.org/wiki/List_of_postal_codes_of_Canada:_M').read()\nsoup = bs.BeautifulSoup(source,'lxml')\n\ntable = soup.find('table')\ntable_rows = table.find_all('tr')\n\nl=[]\nfor tr in table_rows:\n    td = tr.find_all('td')\n    row = [tr.text for tr in td]\n    l.append(row)\npd.DataFrame(l, columns=[\"Postcode\", \"Borough\", \"Neighborhood\"])\n"
        }, 
        {
            "execution_count": null, 
            "cell_type": "code", 
            "metadata": {}, 
            "outputs": [], 
            "source": ""
        }, 
        {
            "execution_count": null, 
            "cell_type": "code", 
            "metadata": {}, 
            "outputs": [], 
            "source": ""
        }
    ], 
    "metadata": {
        "kernelspec": {
            "display_name": "Python 3.5", 
            "name": "python3", 
            "language": "python"
        }, 
        "language_info": {
            "mimetype": "text/x-python", 
            "nbconvert_exporter": "python", 
            "version": "3.5.5", 
            "name": "python", 
            "file_extension": ".py", 
            "pygments_lexer": "ipython3", 
            "codemirror_mode": {
                "version": 3, 
                "name": "ipython"
            }
        }
    }, 
    "nbformat": 4
}